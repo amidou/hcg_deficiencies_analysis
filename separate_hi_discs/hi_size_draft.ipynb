{
 "cells": [
  {
   "cell_type": "code",
   "execution_count": 71,
   "metadata": {},
   "outputs": [],
   "source": [
    "import numpy as np\n",
    "import matplotlib.pyplot as plt\n",
    "from astropy.io import fits\n",
    "import astropy.units as u\n",
    "import astropy.coordinates as coords\n",
    "from astropy.wcs import WCS\n",
    "from astropy.nddata import Cutout2D\n",
    "from astroquery.ipac.ned import Ned\n",
    "from matplotlib.patches import Ellipse\n",
    "import pymc3 as pm\n",
    "import arviz as az"
   ]
  },
  {
   "cell_type": "code",
   "execution_count": 44,
   "metadata": {},
   "outputs": [],
   "source": [
    "galname = 'NGC 848'\n",
    "subids = {'HCG 16A': 2,\n",
    "          'HCG 16B': 1,\n",
    "          'HCG 16C': 3,\n",
    "          'HCG 16D': 4,\n",
    "          'NGC 848': 5}"
   ]
  },
  {
   "cell_type": "code",
   "execution_count": 85,
   "metadata": {},
   "outputs": [],
   "source": [
    "def jy_to_cm2(data,hdr):\n",
    "    '''\n",
    "    Convert moment 0 map into column density\n",
    "    Parameters\n",
    "    ----------\n",
    "    data: HDU data array\n",
    "    hdr: HDU header\n",
    "    '''\n",
    "    bunit = hdr['BUNIT']\n",
    "    if bunit.lower() in ['jy/beam.m/s', 'jy/beam*m/s']:\n",
    "        fac = 1.249e21\n",
    "    elif bunit.lower() in ['jy/beam.km/s', 'jy/beam*km/s', 'beam-1 Jy km s-1']:\n",
    "        fac = 1.249e24\n",
    "    else:\n",
    "        fac = 1.249e24\n",
    "        print('check moment 0 units, considering \"Jy/beam.km/s\" but could be wrong')\n",
    "    bmaj, bmin = hdr['BMAJ'] * 3600., hdr['BMIN'] * 3600.\n",
    "    beam_area = bmaj * bmin * np.pi / (4.0 * np.log(2.0))\n",
    "    nhi = fac * data / beam_area\n",
    "    return nhi\n",
    "\n",
    "def totflux(data, hdr):\n",
    "    '''Calculate total flux from an HDU\n",
    "    Parameters\n",
    "    ----------\n",
    "    data: HDU data array\n",
    "    hdr: HDU header\n",
    "    '''\n",
    "    cell_size = abs(hdr['CDELT1'])\n",
    "    cell_area = cell_size * cell_size\n",
    "    bmaj, bmin = hdr['BMAJ'], hdr['BMIN']\n",
    "    beam_area = bmaj * bmin * np.pi / (4.0 * np.log(2.0) * cell_area)\n",
    "    box = data.copy()\n",
    "    sdv = np.nansum(box) / beam_area ### conversion from Jy/beam.km/s to Jy.km/s\n",
    "    bunit = hdr['BUNIT']\n",
    "    if bunit.lower() in ['jy/beam.m/s', 'jy/beam*m/s', 'beam-1 Jy m s-1']: ### convert from Jy/beam.m/s to Jy/beam.km/s\n",
    "        sdv *= 1e-3\n",
    "    return sdv\n",
    "\n",
    "def himass(f, D):\n",
    "    '''Calculate HI mass from flux f (Jy.km/s) and distance D (Mpc)\n",
    "    Parameters\n",
    "    ----------\n",
    "    f: flux in Jy.km/s\n",
    "    D: distance in Mpc\n",
    "    '''\n",
    "    m = 2.36e5 * D**2 * f\n",
    "    return np.log10(m)\n",
    "\n",
    "def extract_isophote(data, intensity_level):\n",
    "    plt.figure(figsize=(8, 8))\n",
    "    plt.imshow(data, origin='lower', cmap='gray')\n",
    "    plt.colorbar(label='Intensity')\n",
    "    contour = plt.contour(data, [intensity_level], colors='b')\n",
    "    plt.clf()\n",
    "    return contour\n",
    "\n",
    "def ellipse_equation(theta, xc, yc, a, b, phi):\n",
    "    \"\"\"Equation of an ellipse in polar coordinates.\"\"\"\n",
    "    return np.array([xc + a * np.cos(theta) * np.cos(phi) - b * np.sin(theta) * np.sin(phi),\n",
    "                     yc + a * np.cos(theta) * np.sin(phi) + b * np.sin(theta) * np.cos(phi)]).T\n",
    "\n",
    "def fit_ellipse_bayesian(contour_x, contour_y):\n",
    "    \"\"\"Fit an ellipse to a given path using Bayesian inference.\"\"\"\n",
    "    # Convert the path to polar coordinates\n",
    "    # x = contour_x - np.mean(contour_x)\n",
    "    # y = contour_y - np.mean(contour_y)\n",
    "    # theta_observed = np.arctan2(y, x)\n",
    "\n",
    "    with pm.Model() as model:\n",
    "        # Priors for the parameters\n",
    "        xc = pm.Normal('xc', mu=np.mean(contour_x), sd=np.std(contour_x))\n",
    "        yc = pm.Normal('yc', mu=np.mean(contour_y), sd=np.std(contour_y))\n",
    "        a = pm.Uniform('a', lower=0, upper=50, testval=20)\n",
    "        b = pm.Uniform('b', lower=0, upper=50, testval=10)\n",
    "        phi = pm.Uniform('phi', lower=-np.pi, upper=np.pi)\n",
    "\n",
    "        # Model\n",
    "        x = contour_x - np.mean(contour_x)\n",
    "        y = contour_y - np.mean(contour_y)\n",
    "        theta = pm.Deterministic('theta', pm.math.arctan2(y, x))\n",
    "        x_fit, y_fit = ellipse_equation(theta, xc, yc, a, b, phi)\n",
    "\n",
    "        # Likelihood\n",
    "        x_obs = pm.Normal('x_obs', mu=x_fit, sd=np.std(x), observed=contour_x)\n",
    "        y_obs = pm.Normal('y_obs', mu=y_fit, sd=np.std(y), observed=contour_y)\n",
    "\n",
    "        # Sampling\n",
    "        trace = pm.sample(draws=2000, tune=1000, chains=4)\n",
    "\n",
    "    # Extracting optimized parameters\n",
    "    params_opt = {\n",
    "        'xc': np.mean(trace['xc']),\n",
    "        'yc': np.mean(trace['yc']),\n",
    "        'a': np.mean(trace['a']),\n",
    "        'b': np.mean(trace['b']),\n",
    "        'phi': np.mean(trace['phi'])\n",
    "    }\n",
    "    print(theta)\n",
    "    return params_opt, trace\n",
    "\n",
    "def plot_ellipse(params, contour_x, contour_y):\n",
    "    xc, yc, a, b, phi = params['xc'], params['yc'], params['a'], params['b'], params['phi']\n",
    "\n",
    "    fig, ax = plt.subplots()\n",
    "    ax.plot(contour_x, contour_y, 'b.')  # Plot the original path\n",
    "    ellipse = Ellipse((xc, yc), 2*a, 2*b, phi * 180.0 / np.pi, edgecolor='r', facecolor='none')\n",
    "    ax.add_patch(ellipse)\n",
    "    ax.set_aspect('equal', 'datalim')\n",
    "    plt.xlabel('X')\n",
    "    plt.ylabel('Y')\n",
    "    plt.show()"
   ]
  },
  {
   "cell_type": "code",
   "execution_count": 86,
   "metadata": {},
   "outputs": [
    {
     "name": "stderr",
     "output_type": "stream",
     "text": [
      "WARNING: VerifyWarning: Invalid 'BLANK' keyword in header.  The 'BLANK' keyword is only applicable to integer data, and will be ignored in this HDU. [astropy.io.fits.hdu.image]\n"
     ]
    },
    {
     "name": "stdout",
     "output_type": "stream",
     "text": [
      "check moment 0 units, considering \"Jy/beam.km/s\" but could be wrong\n"
     ]
    },
    {
     "ename": "AttributeError",
     "evalue": "module 'pymc3.math' has no attribute 'arctan2'",
     "output_type": "error",
     "traceback": [
      "\u001b[0;31m---------------------------------------------------------------------------\u001b[0m",
      "\u001b[0;31mAttributeError\u001b[0m                            Traceback (most recent call last)",
      "Cell \u001b[0;32mIn [86], line 13\u001b[0m\n\u001b[1;32m     11\u001b[0m contour_x \u001b[38;5;241m=\u001b[39m contour\u001b[38;5;241m.\u001b[39mallsegs[\u001b[38;5;241m0\u001b[39m][\u001b[38;5;241m0\u001b[39m][:, \u001b[38;5;241m0\u001b[39m]\n\u001b[1;32m     12\u001b[0m contour_y \u001b[38;5;241m=\u001b[39m contour\u001b[38;5;241m.\u001b[39mallsegs[\u001b[38;5;241m0\u001b[39m][\u001b[38;5;241m0\u001b[39m][:, \u001b[38;5;241m1\u001b[39m]\n\u001b[0;32m---> 13\u001b[0m params_opt, trace \u001b[38;5;241m=\u001b[39m \u001b[43mfit_ellipse_bayesian\u001b[49m\u001b[43m(\u001b[49m\u001b[43mcontour_x\u001b[49m\u001b[43m,\u001b[49m\u001b[43m \u001b[49m\u001b[43mcontour_y\u001b[49m\u001b[43m)\u001b[49m\n\u001b[1;32m     14\u001b[0m \u001b[38;5;28;01mfor\u001b[39;00m key \u001b[38;5;129;01min\u001b[39;00m params_opt\u001b[38;5;241m.\u001b[39mkeys():\n\u001b[1;32m     15\u001b[0m     \u001b[38;5;28mprint\u001b[39m(\u001b[38;5;124mf\u001b[39m\u001b[38;5;124m'\u001b[39m\u001b[38;5;132;01m{\u001b[39;00mkey\u001b[38;5;132;01m}\u001b[39;00m\u001b[38;5;124m: \u001b[39m\u001b[38;5;132;01m{\u001b[39;00mparams_opt[key]\u001b[38;5;132;01m:\u001b[39;00m\u001b[38;5;124m.1f\u001b[39m\u001b[38;5;132;01m}\u001b[39;00m\u001b[38;5;124m'\u001b[39m)\n",
      "Cell \u001b[0;32mIn [85], line 81\u001b[0m, in \u001b[0;36mfit_ellipse_bayesian\u001b[0;34m(contour_x, contour_y)\u001b[0m\n\u001b[1;32m     79\u001b[0m x \u001b[38;5;241m=\u001b[39m contour_x \u001b[38;5;241m-\u001b[39m np\u001b[38;5;241m.\u001b[39mmean(contour_x)\n\u001b[1;32m     80\u001b[0m y \u001b[38;5;241m=\u001b[39m contour_y \u001b[38;5;241m-\u001b[39m np\u001b[38;5;241m.\u001b[39mmean(contour_y)\n\u001b[0;32m---> 81\u001b[0m theta \u001b[38;5;241m=\u001b[39m pm\u001b[38;5;241m.\u001b[39mDeterministic(\u001b[38;5;124m'\u001b[39m\u001b[38;5;124mtheta\u001b[39m\u001b[38;5;124m'\u001b[39m, \u001b[43mpm\u001b[49m\u001b[38;5;241;43m.\u001b[39;49m\u001b[43mmath\u001b[49m\u001b[38;5;241;43m.\u001b[39;49m\u001b[43marctan2\u001b[49m(y, x))\n\u001b[1;32m     82\u001b[0m x_fit, y_fit \u001b[38;5;241m=\u001b[39m ellipse_equation(theta, xc, yc, a, b, phi)\n\u001b[1;32m     84\u001b[0m \u001b[38;5;66;03m# Likelihood\u001b[39;00m\n",
      "\u001b[0;31mAttributeError\u001b[0m: module 'pymc3.math' has no attribute 'arctan2'"
     ]
    },
    {
     "data": {
      "text/plain": [
       "<Figure size 800x800 with 0 Axes>"
      ]
     },
     "metadata": {},
     "output_type": "display_data"
    }
   ],
   "source": [
    "subid = subids[galname]\n",
    "whole_data, hdr = fits.getdata(f'hcg_cubes/hcg16_mom0_sub_{subid}.fits', header=True)\n",
    "ned = Ned.query_object(galname)\n",
    "pos = coords.SkyCoord(ned[0]['RA'],ned[0]['DEC'], unit='deg', frame='fk5')\n",
    "wcs = WCS(hdr)\n",
    "cutout = Cutout2D(whole_data, position=pos, size=10*u.arcmin, wcs=wcs)\n",
    "data = cutout.data\n",
    "nhi_data = jy_to_cm2(data, hdr)\n",
    "contour_level = 1.248e20\n",
    "contour = extract_isophote(nhi_data, contour_level)\n",
    "contour_x = contour.allsegs[0][0][:, 0]\n",
    "contour_y = contour.allsegs[0][0][:, 1]\n",
    "params_opt, trace = fit_ellipse_bayesian(contour_x, contour_y)\n",
    "for key in params_opt.keys():\n",
    "    print(f'{key}: {params_opt[key]:.1f}')"
   ]
  },
  {
   "cell_type": "code",
   "execution_count": 78,
   "metadata": {},
   "outputs": [
    {
     "name": "stderr",
     "output_type": "stream",
     "text": [
      "Got error No model on context stack. trying to find log_likelihood in translation.\n",
      "/usr/local/lib/python3.10/site-packages/arviz/data/io_pymc3_3x.py:98: FutureWarning: Using `from_pymc3` without the model will be deprecated in a future release. Not using the model will return less accurate and less useful results. Make sure you use the model argument or call from_pymc3 within a model context.\n",
      "  warnings.warn(\n"
     ]
    },
    {
     "data": {
      "text/html": [
       "<div>\n",
       "<style scoped>\n",
       "    .dataframe tbody tr th:only-of-type {\n",
       "        vertical-align: middle;\n",
       "    }\n",
       "\n",
       "    .dataframe tbody tr th {\n",
       "        vertical-align: top;\n",
       "    }\n",
       "\n",
       "    .dataframe thead th {\n",
       "        text-align: right;\n",
       "    }\n",
       "</style>\n",
       "<table border=\"1\" class=\"dataframe\">\n",
       "  <thead>\n",
       "    <tr style=\"text-align: right;\">\n",
       "      <th></th>\n",
       "      <th>mean</th>\n",
       "      <th>sd</th>\n",
       "      <th>hdi_3%</th>\n",
       "      <th>hdi_97%</th>\n",
       "      <th>mcse_mean</th>\n",
       "      <th>mcse_sd</th>\n",
       "      <th>ess_bulk</th>\n",
       "      <th>ess_tail</th>\n",
       "      <th>r_hat</th>\n",
       "    </tr>\n",
       "  </thead>\n",
       "  <tbody>\n",
       "    <tr>\n",
       "      <th>xc</th>\n",
       "      <td>25.299</td>\n",
       "      <td>0.549</td>\n",
       "      <td>24.338</td>\n",
       "      <td>26.403</td>\n",
       "      <td>0.005</td>\n",
       "      <td>0.003</td>\n",
       "      <td>12385.0</td>\n",
       "      <td>6017.0</td>\n",
       "      <td>1.0</td>\n",
       "    </tr>\n",
       "    <tr>\n",
       "      <th>yc</th>\n",
       "      <td>24.889</td>\n",
       "      <td>0.678</td>\n",
       "      <td>23.605</td>\n",
       "      <td>26.176</td>\n",
       "      <td>0.006</td>\n",
       "      <td>0.004</td>\n",
       "      <td>11986.0</td>\n",
       "      <td>5786.0</td>\n",
       "      <td>1.0</td>\n",
       "    </tr>\n",
       "    <tr>\n",
       "      <th>a</th>\n",
       "      <td>5.986</td>\n",
       "      <td>0.829</td>\n",
       "      <td>4.335</td>\n",
       "      <td>7.477</td>\n",
       "      <td>0.008</td>\n",
       "      <td>0.005</td>\n",
       "      <td>11994.0</td>\n",
       "      <td>6442.0</td>\n",
       "      <td>1.0</td>\n",
       "    </tr>\n",
       "    <tr>\n",
       "      <th>b</th>\n",
       "      <td>6.596</td>\n",
       "      <td>0.925</td>\n",
       "      <td>4.874</td>\n",
       "      <td>8.315</td>\n",
       "      <td>0.009</td>\n",
       "      <td>0.006</td>\n",
       "      <td>11341.0</td>\n",
       "      <td>6311.0</td>\n",
       "      <td>1.0</td>\n",
       "    </tr>\n",
       "    <tr>\n",
       "      <th>phi</th>\n",
       "      <td>-0.024</td>\n",
       "      <td>0.096</td>\n",
       "      <td>-0.215</td>\n",
       "      <td>0.148</td>\n",
       "      <td>0.001</td>\n",
       "      <td>0.001</td>\n",
       "      <td>9671.0</td>\n",
       "      <td>6373.0</td>\n",
       "      <td>1.0</td>\n",
       "    </tr>\n",
       "  </tbody>\n",
       "</table>\n",
       "</div>"
      ],
      "text/plain": [
       "       mean     sd  hdi_3%  hdi_97%  mcse_mean  mcse_sd  ess_bulk  ess_tail  \\\n",
       "xc   25.299  0.549  24.338   26.403      0.005    0.003   12385.0    6017.0   \n",
       "yc   24.889  0.678  23.605   26.176      0.006    0.004   11986.0    5786.0   \n",
       "a     5.986  0.829   4.335    7.477      0.008    0.005   11994.0    6442.0   \n",
       "b     6.596  0.925   4.874    8.315      0.009    0.006   11341.0    6311.0   \n",
       "phi  -0.024  0.096  -0.215    0.148      0.001    0.001    9671.0    6373.0   \n",
       "\n",
       "     r_hat  \n",
       "xc     1.0  \n",
       "yc     1.0  \n",
       "a      1.0  \n",
       "b      1.0  \n",
       "phi    1.0  "
      ]
     },
     "execution_count": 78,
     "metadata": {},
     "output_type": "execute_result"
    }
   ],
   "source": [
    "az.summary(trace)"
   ]
  },
  {
   "cell_type": "code",
   "execution_count": 60,
   "metadata": {},
   "outputs": [
    {
     "name": "stderr",
     "output_type": "stream",
     "text": [
      "/var/folders/l6/qwhmbtrx5f77tr7lps05w56r0000gn/T/ipykernel_1024/3439659561.py:76: MatplotlibDeprecationWarning: Passing the angle parameter of __init__() positionally is deprecated since Matplotlib 3.6; the parameter will become keyword-only two minor releases later.\n",
      "  ellipse = Ellipse((xc, yc), 2*a, 2*b, phi * 180.0 / np.pi, edgecolor='r', facecolor='none')\n"
     ]
    },
    {
     "data": {
      "image/png": "[encoded data removed]",
      "text/plain": [
       "<Figure size 640x480 with 1 Axes>"
      ]
     },
     "metadata": {},
     "output_type": "display_data"
    }
   ],
   "source": [
    "plot_ellipse(params_opt, contour_x, contour_y)"
   ]
  }
 ],
 "metadata": {
  "kernelspec": {
   "display_name": "Python 3",
   "language": "python",
   "name": "python3"
  },
  "language_info": {
   "codemirror_mode": {
    "name": "ipython",
    "version": 3
   },
   "file_extension": ".py",
   "mimetype": "text/x-python",
   "name": "python",
   "nbconvert_exporter": "python",
   "pygments_lexer": "ipython3",
   "version": "3.10.13"
  }
 },
 "nbformat": 4,
 "nbformat_minor": 2
}
